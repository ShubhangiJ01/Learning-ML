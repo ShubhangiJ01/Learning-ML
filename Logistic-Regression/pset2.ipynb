{
 "cells": [
  {
   "cell_type": "markdown",
   "metadata": {},
   "source": [
    "# Problem Set 2: Classification\n",
    "\n",
    "To run and solve this assignment, one must have a working IPython Notebook installation. The easiest way to set it up for both Windows and Linux is to install [Anaconda](https://www.continuum.io/downloads). Then save this file to your computer (use \"Raw\" link on gist\\github), run Anaconda and choose this file in Anaconda's file explorer. Use `Python 3` version. Below statements assume that you have already followed these instructions. If you are new to Python or its scientific library, Numpy, there are some nice tutorials [here](https://www.learnpython.org/) and [here](http://www.scipy-lectures.org/).\n",
    "\n",
    "To run code in a cell or to render [Markdown](https://en.wikipedia.org/wiki/Markdown)+[LaTeX](https://en.wikipedia.org/wiki/LaTeX) press `Ctr+Enter` or `[>|]`(like \"play\") button above. To edit any code or text cell [double]click on its content. To change cell type, choose \"Markdown\" or \"Code\" in the drop-down menu above.\n",
    "\n",
    "If a certain output is given for some cells, that means that you are expected to get similar results in order to receive full points (small deviations are fine). For some parts we have already written the code for you. You should read it closely and understand what it does.\n",
    "\n"
   ]
  },
  {
   "cell_type": "markdown",
   "metadata": {},
   "source": [
    "### 1. Logistic Regression\n",
    "\n",
    "In this part of the exercise, you will build a logistic regression model to predict whether a student\n",
    "gets admitted into a university.\n",
    "\n",
    "Suppose that you are the administrator of a university department and you want to determine\n",
    "each applicant’s chance of admission based on their results on two exams. You have historical\n",
    "data from previous applicants in *ex2data1.txt* that you can use as a training set for logistic regression. For each\n",
    "training example, you have the applicant’s scores on two exams and the admissions decision.\n",
    "\n",
    "Your task is to build a classification model that estimates an applicant’s probability of admission based on the scores from those two exams. This outline and code framework will guide you through the exercise.\n",
    "\n",
    "**1\\.1 Implementation**"
   ]
  },
  {
   "cell_type": "code",
   "execution_count": 2,
   "metadata": {},
   "outputs": [
    {
     "name": "stdout",
     "output_type": "stream",
     "text": [
      "Tested with:\n",
      "Python 3.7.6 (default, Jan  8 2020, 20:23:39) [MSC v.1916 64 bit (AMD64)]\n",
      "{'numpy': '1.18.1', 'matplotlib': '3.1.3'}\n"
     ]
    }
   ],
   "source": [
    "import sys\n",
    "import numpy as np\n",
    "import matplotlib\n",
    "import matplotlib.pyplot as plt\n",
    "print('Tested with:')\n",
    "print('Python', sys.version)\n",
    "print({x.__name__: x.__version__ for x in [np, matplotlib]})"
   ]
  },
  {
   "cell_type": "markdown",
   "metadata": {},
   "source": [
    "**1.1.1 Visualizing the data**\n",
    "\n",
    "Before starting to implement any learning algorithm, it is always good to visualize the data if possible. This first part of the code will load the data and display it on a 2-dimensional plot by calling the function plotData. The axes are the two exam scores, and the positive and negative examples are shown with different markers."
   ]
  },
  {
   "cell_type": "code",
   "execution_count": 3,
   "metadata": {},
   "outputs": [],
   "source": [
    "################################################################################\n",
    "# Try to fit your code and comments into 80 charecters because\n",
    "# - it is guaranteed to look as intened on any screen size\n",
    "# - it encourages you to write \"flater\" logic that is easier to reason about\n",
    "# - it encourages you to decompose logic into comprehansible blocks.\n",
    "# \n",
    "# Try to avoid reassinging/mutating variables because when you encounter an \n",
    "# unexplainable bugs (you will) it is easier to have the whole history\n",
    "# of values to reason about.\n",
    "#\n",
    "# Using %debug magic to run pdb might be useful for debugging. \n",
    "# It is just like gdb but for Python."
   ]
  },
  {
   "cell_type": "code",
   "execution_count": 4,
   "metadata": {},
   "outputs": [
    {
     "name": "stdout",
     "output_type": "stream",
     "text": [
      "(100, 2) 30.05882244669796 99.82785779692128 float64\n",
      "(100, 1) 0.0 1.0 float64\n",
      "(100, 3) 1.0 99.82785779692128 float64\n",
      "(100, 1) 0 1 int32\n"
     ]
    }
   ],
   "source": [
    "# it is good to isolate logical parts to avoid variables leaking into the\n",
    "# global scope and messing up your logic later in weird ways\n",
    "\n",
    "def read_classification_csv_data(fn, add_ones=False):\n",
    "    # read comma separated data\n",
    "    data = np.loadtxt(fn, delimiter=',')\n",
    "    X_, y_ = data[:, :-1], data[:, -1, None]  # a fast way to keep last dim\n",
    "\n",
    "    # printing statistics of data before working with it might have saved\n",
    "    # hundreds hours of of my time, do not repeat my errors :)\n",
    "    print(X_.shape, X_.min(), X_.max(), X_.dtype)\n",
    "    print(y_.shape, y_.min(), y_.max(), y_.dtype)\n",
    "    # aha, y is float! this is not what we expected\n",
    "    # what might go wrong with further y == 0 checks?\n",
    "    # A: floating point equality comparison, that's what!\n",
    "\n",
    "    # insert the column of 1's into the \"X\" matrix (for bias)\n",
    "    X = np.insert(X_, X_.shape[1], 1, axis=1) if add_ones else X_\n",
    "    y = y_.astype(np.int32)\n",
    "    return X, y\n",
    "    \n",
    "X_data, y_data = read_classification_csv_data('ex2data1.txt', add_ones=True)\n",
    "print(X_data.shape, X_data.min(), X_data.max(), X_data.dtype)\n",
    "print(y_data.shape, y_data.min(), y_data.max(), y_data.dtype)"
   ]
  },
  {
   "cell_type": "code",
   "execution_count": 5,
   "metadata": {},
   "outputs": [
    {
     "data": {
      "image/png": "[encoded data removed]",
      "text/plain": [
       "<Figure size 720x432 with 1 Axes>"
      ]
     },
     "metadata": {
      "needs_background": "light"
     },
     "output_type": "display_data"
    }
   ],
   "source": [
    "# how does the *X[y.ravel()==1, :2].T trick work?\n",
    "# https://docs.python.org/3/tutorial/controlflow.html#unpacking-argument-lists\n",
    "\n",
    "def plot_data(X, y, labels, markers, xlabel, ylabel, figsize=(10, 6), ax=None):\n",
    "    if figsize is not None:\n",
    "        plt.figure(figsize=figsize)\n",
    "\n",
    "    ax = ax or plt.gca()\n",
    "    for label_id, (label, marker) in enumerate(zip(labels, markers)):        \n",
    "        ax.plot(*X[y.ravel()==label_id, :2].T, marker, label=label)\n",
    "    ax.set_xlabel(xlabel)\n",
    "    ax.set_ylabel(ylabel)\n",
    "    plt.legend()\n",
    "    ax.grid(True)\n",
    "    \n",
    "student_plotting_spec = {\n",
    "    'X': X_data,\n",
    "    'y': y_data, \n",
    "    'xlabel': 'Exam 1 score', \n",
    "    'ylabel': 'Exam 2 score',\n",
    "    'labels': ['Not admitted', 'Admitted'], \n",
    "    'markers': ['yo', 'k+'], \n",
    "    'figsize': (10, 6)\n",
    "}\n",
    "    \n",
    "plot_data(**student_plotting_spec)\n",
    "plt.show()"
   ]
  },
  {
   "cell_type": "markdown",
   "metadata": {},
   "source": [
    "**1.1.2  Sigmoid function** \n",
    "\n",
    "Before you start with the actual cost function, recall that the logistic regression hypothesis is defined as:\n",
    "\n",
    "$h_\\theta(x) = g(\\theta^Tx)$\n",
    "\n",
    "where function g is the sigmoid function. The sigmoid function is defined as:\n",
    "\n",
    "$g(z) = \\dfrac{1}{1+e^{-z}}$\n",
    "\n",
    "Your first step is to implement/find a sigmoid function so it can be called by the rest of your program. Your code should also work with vectors and matrices. For a matrix, your function should perform the sigmoid function on every element. \n",
    "\n",
    "When you are finished, (a) plot the sigmoid function, and (b) test the function with a scalar, a vector, and a matrix. For scalar large positive values of x, the sigmoid should be close to 1, while for scalar large negative values, the sigmoid should be close to 0. Evaluating sigmoid(0) should give you exactly 0.5."
   ]
  },
  {
   "cell_type": "code",
   "execution_count": 6,
   "metadata": {},
   "outputs": [
    {
     "ename": "TypeError",
     "evalue": "'NoneType' object is not callable",
     "output_type": "error",
     "traceback": [
      "\u001b[1;31m---------------------------------------------------------------------------\u001b[0m",
      "\u001b[1;31mTypeError\u001b[0m                                 Traceback (most recent call last)",
      "\u001b[1;32m<ipython-input-6-dcb2d1e9925f>\u001b[0m in \u001b[0;36m<module>\u001b[1;34m\u001b[0m\n\u001b[0;32m     28\u001b[0m \u001b[1;33m\u001b[0m\u001b[0m\n\u001b[0;32m     29\u001b[0m \u001b[1;33m\u001b[0m\u001b[0m\n\u001b[1;32m---> 30\u001b[1;33m \u001b[0mcheck_that_sigmoid_f\u001b[0m\u001b[1;33m(\u001b[0m\u001b[0msigmoid\u001b[0m\u001b[1;33m)\u001b[0m\u001b[1;33m\u001b[0m\u001b[1;33m\u001b[0m\u001b[0m\n\u001b[0m",
      "\u001b[1;32m<ipython-input-6-dcb2d1e9925f>\u001b[0m in \u001b[0;36mcheck_that_sigmoid_f\u001b[1;34m(f)\u001b[0m\n\u001b[0;32m     10\u001b[0m     \u001b[1;31m# what might do wrong with float precision?\u001b[0m\u001b[1;33m\u001b[0m\u001b[1;33m\u001b[0m\u001b[1;33m\u001b[0m\u001b[0m\n\u001b[0;32m     11\u001b[0m     \u001b[0mx_test\u001b[0m \u001b[1;33m=\u001b[0m \u001b[0mnp\u001b[0m\u001b[1;33m.\u001b[0m\u001b[0mlinspace\u001b[0m\u001b[1;33m(\u001b[0m\u001b[1;33m-\u001b[0m\u001b[1;36m10\u001b[0m\u001b[1;33m,\u001b[0m \u001b[1;36m10\u001b[0m\u001b[1;33m,\u001b[0m \u001b[1;36m50\u001b[0m\u001b[1;33m)\u001b[0m\u001b[1;33m\u001b[0m\u001b[1;33m\u001b[0m\u001b[0m\n\u001b[1;32m---> 12\u001b[1;33m     \u001b[0msigm_test\u001b[0m \u001b[1;33m=\u001b[0m \u001b[0mf\u001b[0m\u001b[1;33m(\u001b[0m\u001b[0mx_test\u001b[0m\u001b[1;33m)\u001b[0m\u001b[1;33m\u001b[0m\u001b[1;33m\u001b[0m\u001b[0m\n\u001b[0m\u001b[0;32m     13\u001b[0m     \u001b[0mplt\u001b[0m\u001b[1;33m.\u001b[0m\u001b[0mplot\u001b[0m\u001b[1;33m(\u001b[0m\u001b[0mx_test\u001b[0m\u001b[1;33m,\u001b[0m \u001b[0msigm_test\u001b[0m\u001b[1;33m)\u001b[0m\u001b[1;33m\u001b[0m\u001b[1;33m\u001b[0m\u001b[0m\n\u001b[0;32m     14\u001b[0m     \u001b[0mplt\u001b[0m\u001b[1;33m.\u001b[0m\u001b[0mtitle\u001b[0m\u001b[1;33m(\u001b[0m\u001b[1;34m\"Sigmoid function\"\u001b[0m\u001b[1;33m)\u001b[0m\u001b[1;33m\u001b[0m\u001b[1;33m\u001b[0m\u001b[0m\n",
      "\u001b[1;31mTypeError\u001b[0m: 'NoneType' object is not callable"
     ]
    }
   ],
   "source": [
    "# check out scipy.special for great variaty of vectorized functions\n",
    "# remember that sigmoid is the inverse of logit function\n",
    "# maybe worth checking out scipy.special.logit first\n",
    "\n",
    "sigmoid = None\n",
    "\n",
    "def check_that_sigmoid_f(f):\n",
    "    # don't use np.arange with float step because it works as\n",
    "    # val_{i+1} = val_i + step while val_i < end\n",
    "    # what might do wrong with float precision?\n",
    "    x_test = np.linspace(-10, 10, 50)\n",
    "    sigm_test = f(x_test)\n",
    "    plt.plot(x_test, sigm_test)\n",
    "    plt.title(\"Sigmoid function\")\n",
    "    plt.grid(True)\n",
    "    plt.show()\n",
    "    \n",
    "    # why should analytical_diff almost== finite_diff for sigmoid?\n",
    "    analytical_diff = sigm_test*(1-sigm_test)\n",
    "    finite_step = x_test[1]-x_test[0]\n",
    "    finite_diff = np.diff(sigm_test) / finite_step\n",
    "    print(x_test.shape, finite_diff.shape)\n",
    "    plt.plot(x_test[:-1]+finite_step/2, finite_diff)\n",
    "    plt.plot(x_test, analytical_diff)\n",
    "    plt.title(\"Numerical (finite difference) derivative of 1d sigmoid\")\n",
    "    plt.grid(True)\n",
    "    plt.show()\n",
    "    \n",
    "    \n",
    "check_that_sigmoid_f(sigmoid)"
   ]
  },
  {
   "cell_type": "markdown",
   "metadata": {},
   "source": [
    "**1.1.3  Cost function and gradient**\n",
    "\n",
    "Now you will implement the cost function and gradient for logistic regression. Complete the code\n",
    "in the functions *hyposesis_function* and *binary_logistic_loss* below to return the value of the hypothesis function and the cost, respectively. Recall that the cost function in logistic regression is\n",
    "\n",
    "$j(\\theta) \\ = \\ \\frac{1}{m} \\ \\sum_{i=1}^{m} \\ [ \\ -y^{(i)} log(h_\\theta(x^{(i)})) \\ - \\ (1 - y^{(i)})log(1-h_\\theta(x^{(i)})) \\ ]$\n",
    "\n",
    "and the gradient of the cost is a vector of the same length as $\\theta$ where the $j^{th}$ element (for $j = 0, 1,...,n$) is defined as follows:\n",
    "\n",
    "$\\frac{\\partial J(\\theta)}{\\partial \\theta_{j}} \\ = \\ \\frac{1}{m} \\ \\sum_{i=1}^{m} \\ (h_\\theta(x^{(i)})-y^{(i)}) x_j^{(i)}$\n",
    "\n",
    "where $m$ is the number of points and $n$ is the number of features. Note that while this gradient looks identical to the linear regression gradient, the formula is\n",
    "actually different because linear and logistic regression have different definitions of $h_\\theta(x)$.\n",
    "\n",
    "What should be the value of the loss for $\\theta = \\bar 0$ regardless of input? Why? Make sure your code also outputs this value."
   ]
  },
  {
   "cell_type": "code",
   "execution_count": null,
   "metadata": {},
   "outputs": [],
   "source": [
    "# we are trying to fit a function that would return a \n",
    "# \"probability of \"\n",
    "\n",
    "# hyposesis_function describes parametric family of functions that we are\n",
    "# going to pick our \"best fitting function\" from. It is parameterized by\n",
    "# real-valued vector theta, i.e. we are going to pick\n",
    "#    h_best = argmin_{h \\in H} logistic_loss_h(x, y, h)\n",
    "# but because there exist a bijection between theta's and h's it is \n",
    "# eqvivalent to choosing\n",
    "#    theta_best = argmin_{theta \\in H} logistic_loss_theta(x, y, theta)\n",
    "\n",
    "def hyposesis_function(x, theta):\n",
    "    raise NotImplementedError('Implement it yourself.')\n",
    "\n",
    "# negative log likelihood of observing sequence of integer\n",
    "# y's given probabilities y_pred's of each Bernoulli trial\n",
    "# recommentation: convert both variables to float's \n",
    "# or weird sign stuff might happen like -1*y != -y for uint8\n",
    "# use np.mean and broadcasting\n",
    "def binary_logistic_loss(y, y_pred):\n",
    "    assert y_pred.shape == y.shape\n",
    "    # or weird sign stuff happens! like -1*y != -y\n",
    "    y, y_pred = y.astype(np.float64), y_pred.astype(np.float64)\n",
    "    # When y_pred = 0, log(0) = -inf, \n",
    "    # we could add a small constant to avoid this case\n",
    "    CONSTANT = 0.000001\n",
    "    y_pred = np.clip(y_pred, 0+CONSTANT, 1-CONSTANT)\n",
    "    \n",
    "    #TODO: Calculate the log likelihoods\n",
    "    raise NotImplementedError('Implement it yourself.')\n",
    "    \n",
    "\n",
    "def logistic_loss_theta_grad(x, y, h, theta):\n",
    "    y_pred = h(x, theta)\n",
    "    point_wise_grads = (y_pred - y)*x\n",
    "    grad = np.mean(point_wise_grads, axis=0)[:, None]\n",
    "    assert grad.shape == theta.shape\n",
    "    return grad\n",
    "    \n",
    "\n",
    "def logistic_loss_theta(x, y, h, theta):\n",
    "    return binary_logistic_loss(y, h(x, theta))\n"
   ]
  },
  {
   "cell_type": "code",
   "execution_count": null,
   "metadata": {},
   "outputs": [],
   "source": [
    "# Check that with theta as zeros, cost is about 0.693:\n",
    "theta_init = np.zeros((X_data.shape[1], 1))\n",
    "print(logistic_loss_theta(X_data, y_data, hyposesis_function, theta_init))\n",
    "print(logistic_loss_theta_grad(X_data, y_data, hyposesis_function, theta_init))"
   ]
  },
  {
   "cell_type": "markdown",
   "metadata": {},
   "source": [
    "**1.1.4 Learning parameters using *scipy.optimize***\n",
    "\n",
    "In the previous assignment, you found the optimal parameters of a linear regression model by\n",
    "implementing gradient descent. You wrote a cost function and calculated its gradient, then took\n",
    "a gradient descent step accordingly. This time, instead of taking gradient descent steps, you will\n",
    "use a scipy.optimize built-in function called *scipy.optimize.minimize*. In this case, we will use\n",
    "the *[conjugate gradient algorithm](https://docs.scipy.org/doc/scipy/reference/optimize.minimize-cg.html)*. \n",
    "\n",
    "The final $\\theta$ value will then be used to plot the\n",
    "decision boundary on the training data, as seen in the figure below."
   ]
  },
  {
   "cell_type": "code",
   "execution_count": null,
   "metadata": {},
   "outputs": [],
   "source": [
    "import scipy.optimize\n",
    "from functools import partial"
   ]
  },
  {
   "cell_type": "code",
   "execution_count": null,
   "metadata": {},
   "outputs": [],
   "source": [
    "def optimize(theta_init, loss, loss_grad, max_iter=10000, print_every=1000, optimizer_fn=None, show=False):\n",
    "    theta = theta_init.copy()\n",
    "    opt_args = {'x0': theta_init, 'fun': loss, 'jac': loss_grad, 'options': {'maxiter': max_iter}}\n",
    "\n",
    "    loss_curve = []\n",
    "    def scipy_callback(theta):\n",
    "        f_value = loss(theta)\n",
    "        loss_curve.append(f_value)\n",
    "        \n",
    "    if optimizer_fn is None:\n",
    "        optimizer_fn = partial(scipy.optimize.minimize, method='CG', callback=scipy_callback)\n",
    "\n",
    "    opt_result = optimizer_fn(**opt_args)\n",
    "    \n",
    "    if show:\n",
    "        plt.plot(loss_curve)\n",
    "        plt.show()\n",
    "    \n",
    "    return opt_result['x'].reshape((-1, 1)), opt_result['fun']"
   ]
  },
  {
   "cell_type": "code",
   "execution_count": null,
   "metadata": {},
   "outputs": [],
   "source": [
    "theta_init = np.zeros((3, 1))\n",
    "loss = partial(logistic_loss_theta, X_data, y_data, hyposesis_function)\n",
    "loss_grad = partial(logistic_loss_theta_grad, X_data, y_data, hyposesis_function)\n",
    "theta, best_cost = optimize(theta_init, loss, loss_grad, show=True)\n",
    "print(best_cost)"
   ]
  },
  {
   "cell_type": "code",
   "execution_count": null,
   "metadata": {},
   "outputs": [],
   "source": [
    "# Plotting the decision boundary: two points, draw a line between\n",
    "# Decision boundary occurs when h = 0, or when\n",
    "# theta_0*x1 + theta_1*x2 + theta_2 = 0\n",
    "# y=mx+b is replaced by x2 = (-1/theta1)(theta2 + theta0*x1)\n",
    "\n",
    "line_xs = np.array([np.min(X_data[:,0]), np.max(X_data[:,0])])\n",
    "line_ys = (-1./theta[1])*(theta[2] + theta[0]*line_xs)\n",
    "plot_data(**student_plotting_spec)\n",
    "plt.plot(line_xs, line_ys, 'b-', lw=10, alpha=0.2, label='Decision Boundary')\n",
    "plt.legend()\n",
    "plt.show()"
   ]
  },
  {
   "cell_type": "markdown",
   "metadata": {},
   "source": [
    "**1.1.5  Evaluating logistic regression**\n",
    "\n",
    "After learning the parameters, you can use the model to predict whether a particular student will\n",
    "be admitted. \n",
    "\n",
    "(a) [5 pts] Show that for a student with an Exam 1 score of 45 and an Exam 2 score of 85, you should\n",
    "expect to see an admission probability of 0.776.\n",
    "\n",
    "Another way to evaluate the quality of the parameters we have found is to see how well the\n",
    "learned model predicts on our training set. \n",
    "\n",
    "(b) [10 pts] In this part, your task is to complete the code in\n",
    "*makePrediction*. The predict function will produce “1” or “0” predictions given a dataset and a learned\n",
    "parameter vector $\\theta$. After you have completed the code, the script below will proceed to report the\n",
    "training accuracy of your classifier by computing the percentage of examples it got correct. You\n",
    "should also see a Training Accuracy of 89.0. "
   ]
  },
  {
   "cell_type": "code",
   "execution_count": null,
   "metadata": {},
   "outputs": [],
   "source": [
    "# For a student with an Exam 1 score of 45 and an Exam 2 score of 85, \n",
    "# you should expect to see an admission probability of 0.776.\n",
    "check_data = np.array([[45., 85., 1]])\n",
    "print(check_data.shape)\n",
    "print(hyposesis_function(check_data, theta))"
   ]
  },
  {
   "cell_type": "code",
   "execution_count": null,
   "metadata": {},
   "outputs": [],
   "source": [
    "# use hyposesis function and broadcast compare operator\n",
    "def predict(x, theta):\n",
    "    raise NotImplementedError('Implement it yourself.')\n",
    "\n",
    "def accuracy(x, y, theta):\n",
    "    raise NotImplementedError('Implement it yourself.')\n",
    "\n",
    "print(accuracy(X_data, y_data, theta))"
   ]
  },
  {
   "cell_type": "markdown",
   "metadata": {},
   "source": [
    "### 2. Regularized logistic regression\n",
    "\n",
    "In this part of the exercise, you will implement regularized logistic regression to predict whether microchips from a fabrication plant pass quality assurance (QA). During QA, each microchip goes through various tests to ensure it is functioning correctly. Suppose you are the product manager of the factory and you have the test results for some microchips on two different tests. From these two tests, you would like to determine whether the microchips should be accepted or rejected. To help you make the decision, you have a dataset of test results on past microchips in *ex2data2.txt*, from which you can build a logistic regression model."
   ]
  },
  {
   "cell_type": "markdown",
   "metadata": {},
   "source": [
    "**2.1 Visualizing the data**\n",
    "\n",
    "Similar to the previous parts of this exercise, plotData is used to generate the figure below,\n",
    "where the axes are the two test scores, and the positive (y = 1, accepted) and negative (y = 0,\n",
    "rejected) examples are shown with different markers.\n",
    "\n",
    "The figure below shows that our dataset cannot be separated into positive and negative examples by a\n",
    "straight line. Therefore, a straightforward application of logistic regression will not perform well on this dataset since logistic regression will only be able to find a linear decision boundary.\n"
   ]
  },
  {
   "cell_type": "code",
   "execution_count": null,
   "metadata": {},
   "outputs": [],
   "source": [
    "X_data_, y_data = read_classification_csv_data('ex2data2.txt')\n",
    "X_data = X_data_ - X_data_.mean(axis=0)[None, :]\n",
    "print(X_data.shape, X_data.min(), X_data.max(), X_data.dtype)\n",
    "print(y_data.shape, y_data.min(), y_data.max(), y_data.dtype)"
   ]
  },
  {
   "cell_type": "code",
   "execution_count": null,
   "metadata": {},
   "outputs": [],
   "source": [
    "chip_plotting_spec = {\n",
    "    'X': X_data,\n",
    "    'y': y_data, \n",
    "    'xlabel': 'Microchip Test 1 Result', \n",
    "    'ylabel': 'Microchip Test 2 Result',\n",
    "    'labels': ['rejected', 'accepted'], \n",
    "    'markers': ['yo', 'k+'],\n",
    "    'figsize': (6, 6)\n",
    "}\n",
    "\n",
    "plot_data(**chip_plotting_spec)\n",
    "plt.show()"
   ]
  },
  {
   "cell_type": "markdown",
   "metadata": {},
   "source": [
    "**2.2 Nonlinear feature mapping**\n",
    "\n",
    "One way to fit the data better is to create more features from each data point. In *mapFeature* below, we will map the features into all polynomial terms of $x_1$ and $x_2$ up to the\n",
    "sixth power as follows:\n",
    "\n",
    "\\begin{equation}\n",
    "mapFeature(x) \\ = \\\n",
    "\\begin{bmatrix}\n",
    "    1 \\\\\n",
    "    x_1 \\\\\n",
    "    x_2 \\\\\n",
    "    x_1^2 \\\\\n",
    "    x_1x_2 \\\\\n",
    "    x_2^2 \\\\\n",
    "    x_1^3 \\\\\n",
    "    \\vdots \\\\\n",
    "    x_1x_2^5 \\\\\n",
    "    x_2^6 \\\\\n",
    "\\end{bmatrix}\n",
    "\\end{equation}\n",
    "\n",
    "As a result of this mapping, our vector of two features (the scores\n",
    "on two QA tests) has been transformed into a 28-dimensional\n",
    "vector. A logistic regression classifier trained on this\n",
    "higher-dimension feature vector will have a more complex\n",
    "decision boundary and will appear nonlinear when drawn in our\n",
    "2-dimensional plot.\n",
    "While the feature mapping allows us to build a more expressive\n",
    "classifier, it is also more susceptible to overfitting. In the next parts\n",
    "of the exercise, you will implement regularized logistic regression\n",
    "to fit the data and also see for yourself how regularization can help combat the overfitting problem.\n",
    "\n",
    "Either finite dimentional (or even infinite-dimentional, as you would see in the SVM leacture and the corresponding home assingment) feature mappings are usually denoted by $\\Phi$ and therefore our hyposesis is now that the Bernoulli probability of chip matfunctioning might be described as\n",
    "\n",
    "$$ p_i = \\sigma(\\Phi(x_i)^T \\theta)$$"
   ]
  },
  {
   "cell_type": "code",
   "execution_count": null,
   "metadata": {},
   "outputs": [],
   "source": [
    "from itertools import combinations_with_replacement\n",
    "\n",
    "def polynomial_feature_map(X_data, degree=20, show_me_ur_powers=False):\n",
    "    assert len(X_data.shape) == 2\n",
    "    group_size = X_data.shape[1]\n",
    "    assert group_size == 2\n",
    "    # hm.. how to get all ordered pairs (c, d) of non-negative ints \n",
    "    # such that their sum is c + d <= dergee? \n",
    "    # it is eqvivalent to getting all groups of integers (a, b) such that\n",
    "    # 0 <= a <= b <= degree and definintg c = a, d = b - a\n",
    "    # their sum is below degree, both are >= 0 \n",
    "    # then feature_i = (x_0 ^ c) * (x_1 ^ d)\n",
    "    comb_iterator = combinations_with_replacement(range(degree+1), group_size)\n",
    "    not_quite_powers = np.array(list(comb_iterator))\n",
    "    powers_bad_order = not_quite_powers.copy()\n",
    "    powers_bad_order[:, 1] -= not_quite_powers[:, 0]\n",
    "    # let's reoder them so that lower power monomials come first\n",
    "    rising_power_idx = np.argsort(powers_bad_order.sum(axis=1))\n",
    "    powers = powers_bad_order[rising_power_idx]\n",
    "    if show_me_ur_powers is True:\n",
    "        print(powers.T)\n",
    "        print('total power per monomial', powers.sum(axis=1))\n",
    "    X_with_powers = np.power(X_data[:, :, None], powers.T[None])\n",
    "    # tu tu power rangers (with replacement)\n",
    "    X_poly = np.prod(X_with_powers, axis=1)\n",
    "    return X_poly\n",
    "\n",
    "X_pf = polynomial_feature_map(X_data, show_me_ur_powers=True)\n",
    "print(X_pf.shape)"
   ]
  },
  {
   "cell_type": "markdown",
   "metadata": {},
   "source": [
    "**2.3 Cost function and gradient**\n",
    "\n",
    "Now you will implement code to compute the cost function and gradient for regularized logistic\n",
    "regression. Recall that the regularized cost function in logistic regression is:\n",
    "\n",
    "$j(\\theta) \\ = \\ [ \\ \\frac{1}{m} \\ \\sum_{i=1}^{m} \\ [ \\ -y^{(i)} log(h_\\theta(x^{(i)})) \\ - \\ (1 - y^{(i)})log(1-h_\\theta(x^{(i)})) \\ ] \\ ] \\ + \\frac{\\lambda}{2m} \\sum_{j=2}^{n} \\theta_j^2 $\n",
    "\n",
    "Note that you should not regularize the parameter $\\theta_0$ (Why not? Think about why that would be a bad idea).\n",
    "\n",
    "The gradient of the cost function is a vector where the j element is defined as follows (you should understand how to obtain this expression):\n",
    "\n",
    "$\\frac{\\partial J(\\theta)}{\\partial \\theta_{0}} \\ = \\ \\frac{1}{m} \\ \\sum_{i=1}^{m} \\ (h_\\theta(x^{(i)})-y^{(i)}) x_j^{(i)} \\quad \\quad \\quad \\quad \\quad \\quad$ for $\\quad j=0$\n",
    "\n",
    "$\\frac{\\partial J(\\theta)}{\\partial \\theta_{j}} \\ = \\ (\\frac{1}{m} \\ \\sum_{i=1}^{m} \\ (h_\\theta(x^{(i)})-y^{(i)}) x_j^{(i)}) + \\frac{\\lambda}{m}\\theta_j \\quad \\quad \\quad$ for $\\quad j \\ge 1$\n"
   ]
  },
  {
   "cell_type": "markdown",
   "metadata": {},
   "source": [
    "**2.3.1  Implementing regularized logistic regression**\n",
    "\n",
    "Re-implement computeCost with regularization."
   ]
  },
  {
   "cell_type": "code",
   "execution_count": null,
   "metadata": {},
   "outputs": [],
   "source": [
    "# Cost function, default lambda (regularization) 0\n",
    "def logistic_loss_theta_w_reg(x, y, h, theta, lambda_=0.0): \n",
    "    raise NotImplementedError('Implement it yourself.')\n",
    "\n",
    "def logistic_loss_theta_w_reg_grad(x, y, h, theta, lambda_=0.0): \n",
    "    raise NotImplementedError('Implement it yourself.')\n",
    "    "
   ]
  },
  {
   "cell_type": "markdown",
   "metadata": {},
   "source": [
    "Once you are done, you will call your cost function using the initial value of\n",
    "θ (initialized to all zeros). You should see that the cost is about 0.693. "
   ]
  },
  {
   "cell_type": "code",
   "execution_count": null,
   "metadata": {},
   "outputs": [],
   "source": [
    "theta_init = np.zeros((X_pf.shape[1], 1))\n",
    "print(logistic_loss_theta_w_reg(X_pf, y_data, hyposesis_function, theta_init))\n",
    "print(logistic_loss_theta_w_reg_grad(X_pf, y_data, hyposesis_function, theta_init))\n",
    "\n",
    "loss = partial(logistic_loss_theta_w_reg, X_pf, y_data, hyposesis_function)\n",
    "loss_grad = partial(logistic_loss_theta_w_reg_grad, X_pf, y_data, hyposesis_function)\n",
    "theta, best_cost = optimize(theta_init, loss, loss_grad, max_iter=10000, print_every=0, show=True)\n",
    "print('best loss', best_cost)\n",
    "print('best acc', accuracy(X_pf, y_data, theta))"
   ]
  },
  {
   "cell_type": "markdown",
   "metadata": {},
   "source": [
    "**2.4 Plotting the decision boundary**\n",
    "\n",
    "To help you visualize the model learned by this classifier, we have provided the function\n",
    "*plotBoundary* which plots the (non-linear) decision boundary that separates the\n",
    "positive and negative examples. "
   ]
  },
  {
   "cell_type": "code",
   "execution_count": null,
   "metadata": {},
   "outputs": [],
   "source": [
    "def plot_boundary(theta, ax=None):\n",
    "    \"\"\"\n",
    "    Function to plot the decision boundary for arbitrary theta, X, y, lambda value\n",
    "    Inside of this function is feature mapping, and the minimization routine.\n",
    "    It works by making a grid of x1 (\"xvals\") and x2 (\"yvals\") points,\n",
    "    And for each, computing whether the hypothesis classifies that point as\n",
    "    True or False. Then, a contour is drawn with a built-in pyplot function.\n",
    "    \"\"\"\n",
    "    ax = ax or plt.gca()\n",
    "    x_range = np.linspace(-1,1.5,50)\n",
    "    y_range = np.linspace(-1,1.5,50)\n",
    "    xx, yy = np.meshgrid(x_range, y_range)\n",
    "    X_fake = np.stack([xx, yy]).reshape(2, -1).T\n",
    "    X_fake_fm = polynomial_feature_map(X_fake)\n",
    "    y_pred_fake = hyposesis_function(X_fake_fm, theta)\n",
    "    return ax.contour( x_range, y_range, y_pred_fake.reshape(50, 50).T, [0.5])"
   ]
  },
  {
   "cell_type": "markdown",
   "metadata": {},
   "source": [
    "**2.4.1 Plot Decision Boundaries**\n",
    "\n",
    "(a) Use *plotBoundary* to obtain four subplots of the decision boundary for the following values of the regularization parameter: $\\lambda \\ = \\ 0, 1, 5, 10$\n",
    "\n",
    "(b) Considering that later components of theta correspond to higher powers of monomials, plot values of theta and commend on effects of regularization"
   ]
  },
  {
   "cell_type": "code",
   "execution_count": null,
   "metadata": {},
   "outputs": [],
   "source": [
    "# (a) Build a figure showing contours for various values of regularization parameter, lambda\n",
    "\n",
    "np.random.seed(2)\n",
    "train_idx_mask = np.random.rand(X_pf.shape[0]) < 0.3\n",
    "X_pf_train, y_train = X_pf[train_idx_mask], y_data[train_idx_mask]\n",
    "X_pf_test, y_test = X_pf[~train_idx_mask], y_data[~train_idx_mask]\n",
    "print([x.shape for x in (X_pf_train, y_train, X_pf_test, y_test)])\n",
    "\n",
    "def silent_optimize_w_lambda(lambda_):\n",
    "    theta_init = np.zeros((X_pf.shape[1], 1))\n",
    "    data = (X_pf_train, y_train, hyposesis_function)\n",
    "    loss = partial(logistic_loss_theta_w_reg, *data, lambda_=lambda_)\n",
    "    loss_grad = partial(logistic_loss_theta_w_reg_grad, *data, lambda_=lambda_)\n",
    "    optimizer_fn = partial(climin.GradientDescent, step_rate=1e-4, momentum=0.999)\n",
    "    theta, final_loss = optimize(\n",
    "        theta_init, loss, loss_grad, optimizer_fn=optimizer_fn, \n",
    "        max_iter=1000, print_every=0, show=False\n",
    "    )\n",
    "    return theta, final_loss\n",
    "\n",
    "thetas = []\n",
    "plt.figure(figsize=(12,10))\n",
    "\n",
    "# wow, I mutates an object used in the scope of another function (plot_data)\n",
    "# don't do that! it is really hard to debug later\n",
    "chip_plotting_spec['figsize'] = None\n",
    "\n",
    "# you might find following lines useful:\n",
    "#\n",
    "#    cnt_fmt = {0.5: 'Lambda = %d' % lambda_}\n",
    "#    ax.clabel(cnt, inline=1, fontsize=15, fmt=cnt_fmt)\n",
    "# \n",
    "# red dots indicate training samples\n",
    "\n",
    "for id_, lambda_ in enumerate([0, 1, 5, 10]):\n",
    "    ax = plt.subplot(2, 2, id_+1)\n",
    "    raise NotImplementedError('Implement it yourself.')\n",
    "    \n",
    "plt.show()\n",
    "\n",
    "# (b) Considering that later components of theta correspond to higher powers\n",
    "# of monomials, plot values of theta and commend on effects of regularization\n",
    "ax = None\n",
    "for th_id, theta in enumerate(thetas):\n",
    "    ax = plt.subplot(2, 2, th_id+1, sharey=ax)\n",
    "    raise NotImplementedError('Implement it yourself.')\n",
    "    \n",
    "plt.show()"
   ]
  }
 ],
 "metadata": {
  "anaconda-cloud": {},
  "kernelspec": {
   "display_name": "Python 3",
   "language": "python",
   "name": "python3"
  },
  "language_info": {
   "codemirror_mode": {
    "name": "ipython",
    "version": 3
   },
   "file_extension": ".py",
   "mimetype": "text/x-python",
   "name": "python",
   "nbconvert_exporter": "python",
   "pygments_lexer": "ipython3",
   "version": "3.7.6"
  }
 },
 "nbformat": 4,
 "nbformat_minor": 1
}
